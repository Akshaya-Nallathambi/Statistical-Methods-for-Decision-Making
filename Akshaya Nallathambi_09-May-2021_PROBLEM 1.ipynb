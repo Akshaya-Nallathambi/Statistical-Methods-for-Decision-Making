{
 "cells": [
  {
   "cell_type": "code",
   "execution_count": 1,
   "metadata": {},
   "outputs": [],
   "source": [
    "# Loading the necessary packages\n",
    "\n",
    "# Packages that are required for basic computation\n",
    "import numpy as np\n",
    "import pandas as pd\n",
    "\n",
    "# Packages for graph\n",
    "import matplotlib.pyplot as plt\n",
    "%matplotlib inline\n",
    "import seaborn as sns\n",
    "sns.set(color_codes=True) #adds a nice background to the graphs\n",
    "sns.set() #setting the default seaborn style for our plots\n",
    "\n",
    "# Packages for statistics\n",
    "import scipy.stats as stats\n",
    "\n",
    "# Packages to ignore warnings\n",
    "from warnings import filterwarnings\n",
    "filterwarnings(\"ignore\")"
   ]
  },
  {
   "cell_type": "code",
   "execution_count": 2,
   "metadata": {},
   "outputs": [],
   "source": [
    "mydata = pd.read_csv('Wholesale Customer.csv')"
   ]
  },
  {
   "cell_type": "code",
   "execution_count": 3,
   "metadata": {},
   "outputs": [
    {
     "data": {
      "text/html": [
       "<div>\n",
       "<style scoped>\n",
       "    .dataframe tbody tr th:only-of-type {\n",
       "        vertical-align: middle;\n",
       "    }\n",
       "\n",
       "    .dataframe tbody tr th {\n",
       "        vertical-align: top;\n",
       "    }\n",
       "\n",
       "    .dataframe thead th {\n",
       "        text-align: right;\n",
       "    }\n",
       "</style>\n",
       "<table border=\"1\" class=\"dataframe\">\n",
       "  <thead>\n",
       "    <tr style=\"text-align: right;\">\n",
       "      <th></th>\n",
       "      <th>Buyer/Spender</th>\n",
       "      <th>Channel</th>\n",
       "      <th>Region</th>\n",
       "      <th>Fresh</th>\n",
       "      <th>Milk</th>\n",
       "      <th>Grocery</th>\n",
       "      <th>Frozen</th>\n",
       "      <th>Detergents_Paper</th>\n",
       "      <th>Delicatessen</th>\n",
       "    </tr>\n",
       "  </thead>\n",
       "  <tbody>\n",
       "    <tr>\n",
       "      <th>0</th>\n",
       "      <td>1</td>\n",
       "      <td>Retail</td>\n",
       "      <td>Other</td>\n",
       "      <td>12669</td>\n",
       "      <td>9656</td>\n",
       "      <td>7561</td>\n",
       "      <td>214</td>\n",
       "      <td>2674</td>\n",
       "      <td>1338</td>\n",
       "    </tr>\n",
       "    <tr>\n",
       "      <th>1</th>\n",
       "      <td>2</td>\n",
       "      <td>Retail</td>\n",
       "      <td>Other</td>\n",
       "      <td>7057</td>\n",
       "      <td>9810</td>\n",
       "      <td>9568</td>\n",
       "      <td>1762</td>\n",
       "      <td>3293</td>\n",
       "      <td>1776</td>\n",
       "    </tr>\n",
       "    <tr>\n",
       "      <th>2</th>\n",
       "      <td>3</td>\n",
       "      <td>Retail</td>\n",
       "      <td>Other</td>\n",
       "      <td>6353</td>\n",
       "      <td>8808</td>\n",
       "      <td>7684</td>\n",
       "      <td>2405</td>\n",
       "      <td>3516</td>\n",
       "      <td>7844</td>\n",
       "    </tr>\n",
       "    <tr>\n",
       "      <th>3</th>\n",
       "      <td>4</td>\n",
       "      <td>Hotel</td>\n",
       "      <td>Other</td>\n",
       "      <td>13265</td>\n",
       "      <td>1196</td>\n",
       "      <td>4221</td>\n",
       "      <td>6404</td>\n",
       "      <td>507</td>\n",
       "      <td>1788</td>\n",
       "    </tr>\n",
       "    <tr>\n",
       "      <th>4</th>\n",
       "      <td>5</td>\n",
       "      <td>Retail</td>\n",
       "      <td>Other</td>\n",
       "      <td>22615</td>\n",
       "      <td>5410</td>\n",
       "      <td>7198</td>\n",
       "      <td>3915</td>\n",
       "      <td>1777</td>\n",
       "      <td>5185</td>\n",
       "    </tr>\n",
       "  </tbody>\n",
       "</table>\n",
       "</div>"
      ],
      "text/plain": [
       "   Buyer/Spender Channel Region  Fresh  Milk  Grocery  Frozen  \\\n",
       "0              1  Retail  Other  12669  9656     7561     214   \n",
       "1              2  Retail  Other   7057  9810     9568    1762   \n",
       "2              3  Retail  Other   6353  8808     7684    2405   \n",
       "3              4   Hotel  Other  13265  1196     4221    6404   \n",
       "4              5  Retail  Other  22615  5410     7198    3915   \n",
       "\n",
       "   Detergents_Paper  Delicatessen  \n",
       "0              2674          1338  \n",
       "1              3293          1776  \n",
       "2              3516          7844  \n",
       "3               507          1788  \n",
       "4              1777          5185  "
      ]
     },
     "execution_count": 3,
     "metadata": {},
     "output_type": "execute_result"
    }
   ],
   "source": [
    "mydata.head()"
   ]
  },
  {
   "cell_type": "code",
   "execution_count": 4,
   "metadata": {},
   "outputs": [
    {
     "data": {
      "text/html": [
       "<div>\n",
       "<style scoped>\n",
       "    .dataframe tbody tr th:only-of-type {\n",
       "        vertical-align: middle;\n",
       "    }\n",
       "\n",
       "    .dataframe tbody tr th {\n",
       "        vertical-align: top;\n",
       "    }\n",
       "\n",
       "    .dataframe thead th {\n",
       "        text-align: right;\n",
       "    }\n",
       "</style>\n",
       "<table border=\"1\" class=\"dataframe\">\n",
       "  <thead>\n",
       "    <tr style=\"text-align: right;\">\n",
       "      <th></th>\n",
       "      <th>Buyer/Spender</th>\n",
       "      <th>Channel</th>\n",
       "      <th>Region</th>\n",
       "      <th>Fresh</th>\n",
       "      <th>Milk</th>\n",
       "      <th>Grocery</th>\n",
       "      <th>Frozen</th>\n",
       "      <th>Detergents_Paper</th>\n",
       "      <th>Delicatessen</th>\n",
       "    </tr>\n",
       "  </thead>\n",
       "  <tbody>\n",
       "    <tr>\n",
       "      <th>435</th>\n",
       "      <td>436</td>\n",
       "      <td>Hotel</td>\n",
       "      <td>Other</td>\n",
       "      <td>29703</td>\n",
       "      <td>12051</td>\n",
       "      <td>16027</td>\n",
       "      <td>13135</td>\n",
       "      <td>182</td>\n",
       "      <td>2204</td>\n",
       "    </tr>\n",
       "    <tr>\n",
       "      <th>436</th>\n",
       "      <td>437</td>\n",
       "      <td>Hotel</td>\n",
       "      <td>Other</td>\n",
       "      <td>39228</td>\n",
       "      <td>1431</td>\n",
       "      <td>764</td>\n",
       "      <td>4510</td>\n",
       "      <td>93</td>\n",
       "      <td>2346</td>\n",
       "    </tr>\n",
       "    <tr>\n",
       "      <th>437</th>\n",
       "      <td>438</td>\n",
       "      <td>Retail</td>\n",
       "      <td>Other</td>\n",
       "      <td>14531</td>\n",
       "      <td>15488</td>\n",
       "      <td>30243</td>\n",
       "      <td>437</td>\n",
       "      <td>14841</td>\n",
       "      <td>1867</td>\n",
       "    </tr>\n",
       "    <tr>\n",
       "      <th>438</th>\n",
       "      <td>439</td>\n",
       "      <td>Hotel</td>\n",
       "      <td>Other</td>\n",
       "      <td>10290</td>\n",
       "      <td>1981</td>\n",
       "      <td>2232</td>\n",
       "      <td>1038</td>\n",
       "      <td>168</td>\n",
       "      <td>2125</td>\n",
       "    </tr>\n",
       "    <tr>\n",
       "      <th>439</th>\n",
       "      <td>440</td>\n",
       "      <td>Hotel</td>\n",
       "      <td>Other</td>\n",
       "      <td>2787</td>\n",
       "      <td>1698</td>\n",
       "      <td>2510</td>\n",
       "      <td>65</td>\n",
       "      <td>477</td>\n",
       "      <td>52</td>\n",
       "    </tr>\n",
       "  </tbody>\n",
       "</table>\n",
       "</div>"
      ],
      "text/plain": [
       "     Buyer/Spender Channel Region  Fresh   Milk  Grocery  Frozen  \\\n",
       "435            436   Hotel  Other  29703  12051    16027   13135   \n",
       "436            437   Hotel  Other  39228   1431      764    4510   \n",
       "437            438  Retail  Other  14531  15488    30243     437   \n",
       "438            439   Hotel  Other  10290   1981     2232    1038   \n",
       "439            440   Hotel  Other   2787   1698     2510      65   \n",
       "\n",
       "     Detergents_Paper  Delicatessen  \n",
       "435               182          2204  \n",
       "436                93          2346  \n",
       "437             14841          1867  \n",
       "438               168          2125  \n",
       "439               477            52  "
      ]
     },
     "execution_count": 4,
     "metadata": {},
     "output_type": "execute_result"
    }
   ],
   "source": [
    "mydata.tail()"
   ]
  },
  {
   "cell_type": "code",
   "execution_count": 5,
   "metadata": {},
   "outputs": [
    {
     "name": "stdout",
     "output_type": "stream",
     "text": [
      "<class 'pandas.core.frame.DataFrame'>\n",
      "RangeIndex: 440 entries, 0 to 439\n",
      "Data columns (total 9 columns):\n",
      " #   Column            Non-Null Count  Dtype \n",
      "---  ------            --------------  ----- \n",
      " 0   Buyer/Spender     440 non-null    int64 \n",
      " 1   Channel           440 non-null    object\n",
      " 2   Region            440 non-null    object\n",
      " 3   Fresh             440 non-null    int64 \n",
      " 4   Milk              440 non-null    int64 \n",
      " 5   Grocery           440 non-null    int64 \n",
      " 6   Frozen            440 non-null    int64 \n",
      " 7   Detergents_Paper  440 non-null    int64 \n",
      " 8   Delicatessen      440 non-null    int64 \n",
      "dtypes: int64(7), object(2)\n",
      "memory usage: 31.1+ KB\n"
     ]
    }
   ],
   "source": [
    "mydata.info()"
   ]
  },
  {
   "cell_type": "code",
   "execution_count": 6,
   "metadata": {},
   "outputs": [
    {
     "data": {
      "text/plain": [
       "Buyer/Spender       0\n",
       "Channel             0\n",
       "Region              0\n",
       "Fresh               0\n",
       "Milk                0\n",
       "Grocery             0\n",
       "Frozen              0\n",
       "Detergents_Paper    0\n",
       "Delicatessen        0\n",
       "dtype: int64"
      ]
     },
     "execution_count": 6,
     "metadata": {},
     "output_type": "execute_result"
    }
   ],
   "source": [
    "mydata.isnull().sum()"
   ]
  },
  {
   "cell_type": "code",
   "execution_count": 8,
   "metadata": {},
   "outputs": [
    {
     "data": {
      "text/plain": [
       "Index(['Buyer/Spender', 'Channel', 'Region', 'Fresh', 'Milk', 'Grocery',\n",
       "       'Frozen', 'Detergents_Paper', 'Delicatessen'],\n",
       "      dtype='object')"
      ]
     },
     "execution_count": 8,
     "metadata": {},
     "output_type": "execute_result"
    }
   ],
   "source": [
    "mydata.columns"
   ]
  },
  {
   "cell_type": "markdown",
   "metadata": {},
   "source": [
    "### 1.1 Use methods of descriptive statistics to summarize data. Which Region and which Channel spent the most? Which Region and which Channel spent the least?"
   ]
  },
  {
   "cell_type": "code",
   "execution_count": 15,
   "metadata": {},
   "outputs": [
    {
     "data": {
      "text/html": [
       "<div>\n",
       "<style scoped>\n",
       "    .dataframe tbody tr th:only-of-type {\n",
       "        vertical-align: middle;\n",
       "    }\n",
       "\n",
       "    .dataframe tbody tr th {\n",
       "        vertical-align: top;\n",
       "    }\n",
       "\n",
       "    .dataframe thead th {\n",
       "        text-align: right;\n",
       "    }\n",
       "</style>\n",
       "<table border=\"1\" class=\"dataframe\">\n",
       "  <thead>\n",
       "    <tr style=\"text-align: right;\">\n",
       "      <th></th>\n",
       "      <th>count</th>\n",
       "      <th>unique</th>\n",
       "      <th>top</th>\n",
       "      <th>freq</th>\n",
       "      <th>mean</th>\n",
       "      <th>std</th>\n",
       "      <th>min</th>\n",
       "      <th>25%</th>\n",
       "      <th>50%</th>\n",
       "      <th>75%</th>\n",
       "      <th>max</th>\n",
       "    </tr>\n",
       "  </thead>\n",
       "  <tbody>\n",
       "    <tr>\n",
       "      <th>Buyer/Spender</th>\n",
       "      <td>440</td>\n",
       "      <td>NaN</td>\n",
       "      <td>NaN</td>\n",
       "      <td>NaN</td>\n",
       "      <td>220.5</td>\n",
       "      <td>127.161</td>\n",
       "      <td>1</td>\n",
       "      <td>110.75</td>\n",
       "      <td>220.5</td>\n",
       "      <td>330.25</td>\n",
       "      <td>440</td>\n",
       "    </tr>\n",
       "    <tr>\n",
       "      <th>Channel</th>\n",
       "      <td>440</td>\n",
       "      <td>2</td>\n",
       "      <td>Hotel</td>\n",
       "      <td>298</td>\n",
       "      <td>NaN</td>\n",
       "      <td>NaN</td>\n",
       "      <td>NaN</td>\n",
       "      <td>NaN</td>\n",
       "      <td>NaN</td>\n",
       "      <td>NaN</td>\n",
       "      <td>NaN</td>\n",
       "    </tr>\n",
       "    <tr>\n",
       "      <th>Region</th>\n",
       "      <td>440</td>\n",
       "      <td>3</td>\n",
       "      <td>Other</td>\n",
       "      <td>316</td>\n",
       "      <td>NaN</td>\n",
       "      <td>NaN</td>\n",
       "      <td>NaN</td>\n",
       "      <td>NaN</td>\n",
       "      <td>NaN</td>\n",
       "      <td>NaN</td>\n",
       "      <td>NaN</td>\n",
       "    </tr>\n",
       "    <tr>\n",
       "      <th>Fresh</th>\n",
       "      <td>440</td>\n",
       "      <td>NaN</td>\n",
       "      <td>NaN</td>\n",
       "      <td>NaN</td>\n",
       "      <td>12000.3</td>\n",
       "      <td>12647.3</td>\n",
       "      <td>3</td>\n",
       "      <td>3127.75</td>\n",
       "      <td>8504</td>\n",
       "      <td>16933.8</td>\n",
       "      <td>112151</td>\n",
       "    </tr>\n",
       "    <tr>\n",
       "      <th>Milk</th>\n",
       "      <td>440</td>\n",
       "      <td>NaN</td>\n",
       "      <td>NaN</td>\n",
       "      <td>NaN</td>\n",
       "      <td>5796.27</td>\n",
       "      <td>7380.38</td>\n",
       "      <td>55</td>\n",
       "      <td>1533</td>\n",
       "      <td>3627</td>\n",
       "      <td>7190.25</td>\n",
       "      <td>73498</td>\n",
       "    </tr>\n",
       "    <tr>\n",
       "      <th>Grocery</th>\n",
       "      <td>440</td>\n",
       "      <td>NaN</td>\n",
       "      <td>NaN</td>\n",
       "      <td>NaN</td>\n",
       "      <td>7951.28</td>\n",
       "      <td>9503.16</td>\n",
       "      <td>3</td>\n",
       "      <td>2153</td>\n",
       "      <td>4755.5</td>\n",
       "      <td>10655.8</td>\n",
       "      <td>92780</td>\n",
       "    </tr>\n",
       "    <tr>\n",
       "      <th>Frozen</th>\n",
       "      <td>440</td>\n",
       "      <td>NaN</td>\n",
       "      <td>NaN</td>\n",
       "      <td>NaN</td>\n",
       "      <td>3071.93</td>\n",
       "      <td>4854.67</td>\n",
       "      <td>25</td>\n",
       "      <td>742.25</td>\n",
       "      <td>1526</td>\n",
       "      <td>3554.25</td>\n",
       "      <td>60869</td>\n",
       "    </tr>\n",
       "    <tr>\n",
       "      <th>Detergents_Paper</th>\n",
       "      <td>440</td>\n",
       "      <td>NaN</td>\n",
       "      <td>NaN</td>\n",
       "      <td>NaN</td>\n",
       "      <td>2881.49</td>\n",
       "      <td>4767.85</td>\n",
       "      <td>3</td>\n",
       "      <td>256.75</td>\n",
       "      <td>816.5</td>\n",
       "      <td>3922</td>\n",
       "      <td>40827</td>\n",
       "    </tr>\n",
       "    <tr>\n",
       "      <th>Delicatessen</th>\n",
       "      <td>440</td>\n",
       "      <td>NaN</td>\n",
       "      <td>NaN</td>\n",
       "      <td>NaN</td>\n",
       "      <td>1524.87</td>\n",
       "      <td>2820.11</td>\n",
       "      <td>3</td>\n",
       "      <td>408.25</td>\n",
       "      <td>965.5</td>\n",
       "      <td>1820.25</td>\n",
       "      <td>47943</td>\n",
       "    </tr>\n",
       "  </tbody>\n",
       "</table>\n",
       "</div>"
      ],
      "text/plain": [
       "                 count unique    top freq     mean      std  min      25%  \\\n",
       "Buyer/Spender      440    NaN    NaN  NaN    220.5  127.161    1   110.75   \n",
       "Channel            440      2  Hotel  298      NaN      NaN  NaN      NaN   \n",
       "Region             440      3  Other  316      NaN      NaN  NaN      NaN   \n",
       "Fresh              440    NaN    NaN  NaN  12000.3  12647.3    3  3127.75   \n",
       "Milk               440    NaN    NaN  NaN  5796.27  7380.38   55     1533   \n",
       "Grocery            440    NaN    NaN  NaN  7951.28  9503.16    3     2153   \n",
       "Frozen             440    NaN    NaN  NaN  3071.93  4854.67   25   742.25   \n",
       "Detergents_Paper   440    NaN    NaN  NaN  2881.49  4767.85    3   256.75   \n",
       "Delicatessen       440    NaN    NaN  NaN  1524.87  2820.11    3   408.25   \n",
       "\n",
       "                     50%      75%     max  \n",
       "Buyer/Spender      220.5   330.25     440  \n",
       "Channel              NaN      NaN     NaN  \n",
       "Region               NaN      NaN     NaN  \n",
       "Fresh               8504  16933.8  112151  \n",
       "Milk                3627  7190.25   73498  \n",
       "Grocery           4755.5  10655.8   92780  \n",
       "Frozen              1526  3554.25   60869  \n",
       "Detergents_Paper   816.5     3922   40827  \n",
       "Delicatessen       965.5  1820.25   47943  "
      ]
     },
     "execution_count": 15,
     "metadata": {},
     "output_type": "execute_result"
    }
   ],
   "source": [
    "mydata.describe(include = 'all').T"
   ]
  },
  {
   "cell_type": "code",
   "execution_count": 3,
   "metadata": {},
   "outputs": [],
   "source": [
    "Products = ['Fresh', 'Milk', 'Grocery','Frozen', 'Detergents_Paper', 'Delicatessen']"
   ]
  },
  {
   "cell_type": "markdown",
   "metadata": {},
   "source": [
    "#### ----------------------------------------------------------------------------------------------------------------------------------------------------------------------------------------\n",
    "## Region\n",
    "#### ----------------------------------------------------------------------------------------------------------------------------------------------------------------------------------------"
   ]
  },
  {
   "cell_type": "code",
   "execution_count": 10,
   "metadata": {},
   "outputs": [
    {
     "data": {
      "text/plain": [
       "array(['Other', 'Lisbon', 'Oporto'], dtype=object)"
      ]
     },
     "execution_count": 10,
     "metadata": {},
     "output_type": "execute_result"
    }
   ],
   "source": [
    "mydata['Region'].unique()"
   ]
  },
  {
   "cell_type": "code",
   "execution_count": 7,
   "metadata": {},
   "outputs": [],
   "source": [
    "Product_Sum_Lisbon = 0\n",
    "\n",
    "for i in range(0,6):\n",
    "    Product_Sum_Lisbon = Product_Sum_Lisbon + mydata[mydata['Region'] == 'Lisbon'][Products[i]].sum()"
   ]
  },
  {
   "cell_type": "code",
   "execution_count": 8,
   "metadata": {},
   "outputs": [
    {
     "data": {
      "text/plain": [
       "2386813"
      ]
     },
     "execution_count": 8,
     "metadata": {},
     "output_type": "execute_result"
    }
   ],
   "source": [
    "Product_Sum_Lisbon"
   ]
  },
  {
   "cell_type": "code",
   "execution_count": 9,
   "metadata": {},
   "outputs": [],
   "source": [
    "Product_Sum_Oporto = 0\n",
    "\n",
    "for i in range(0,6):\n",
    "    Product_Sum_Oporto = Product_Sum_Oporto + mydata[mydata['Region'] == 'Oporto'][Products[i]].sum()"
   ]
  },
  {
   "cell_type": "code",
   "execution_count": 10,
   "metadata": {},
   "outputs": [
    {
     "data": {
      "text/plain": [
       "1555088"
      ]
     },
     "execution_count": 10,
     "metadata": {},
     "output_type": "execute_result"
    }
   ],
   "source": [
    "Product_Sum_Oporto"
   ]
  },
  {
   "cell_type": "code",
   "execution_count": 11,
   "metadata": {},
   "outputs": [],
   "source": [
    "Product_Sum_Other = 0\n",
    "\n",
    "for i in range(0,6):\n",
    "    Product_Sum_Other = Product_Sum_Other + mydata[mydata['Region'] == 'Other'][Products[i]].sum()"
   ]
  },
  {
   "cell_type": "code",
   "execution_count": 12,
   "metadata": {},
   "outputs": [
    {
     "data": {
      "text/plain": [
       "10677599"
      ]
     },
     "execution_count": 12,
     "metadata": {},
     "output_type": "execute_result"
    }
   ],
   "source": [
    "Product_Sum_Other"
   ]
  },
  {
   "cell_type": "code",
   "execution_count": 21,
   "metadata": {},
   "outputs": [
    {
     "data": {
      "text/html": [
       "<div>\n",
       "<style scoped>\n",
       "    .dataframe tbody tr th:only-of-type {\n",
       "        vertical-align: middle;\n",
       "    }\n",
       "\n",
       "    .dataframe tbody tr th {\n",
       "        vertical-align: top;\n",
       "    }\n",
       "\n",
       "    .dataframe thead th {\n",
       "        text-align: right;\n",
       "    }\n",
       "</style>\n",
       "<table border=\"1\" class=\"dataframe\">\n",
       "  <thead>\n",
       "    <tr style=\"text-align: right;\">\n",
       "      <th></th>\n",
       "      <th>Region</th>\n",
       "      <th>Amount Spent</th>\n",
       "    </tr>\n",
       "  </thead>\n",
       "  <tbody>\n",
       "    <tr>\n",
       "      <th>0</th>\n",
       "      <td>Other</td>\n",
       "      <td>2386813</td>\n",
       "    </tr>\n",
       "    <tr>\n",
       "      <th>1</th>\n",
       "      <td>Lisbon</td>\n",
       "      <td>1555088</td>\n",
       "    </tr>\n",
       "    <tr>\n",
       "      <th>2</th>\n",
       "      <td>Oporto</td>\n",
       "      <td>10677599</td>\n",
       "    </tr>\n",
       "  </tbody>\n",
       "</table>\n",
       "</div>"
      ],
      "text/plain": [
       "   Region  Amount Spent\n",
       "0   Other       2386813\n",
       "1  Lisbon       1555088\n",
       "2  Oporto      10677599"
      ]
     },
     "execution_count": 21,
     "metadata": {},
     "output_type": "execute_result"
    }
   ],
   "source": [
    "df_1 = {'Region':['Other', 'Lisbon', 'Oporto'],\n",
    "        'Amount Spent':[Product_Sum_Lisbon,Product_Sum_Oporto,Product_Sum_Other]}\n",
    "  \n",
    "Region_Sum = pd.DataFrame(df_1)\n",
    "\n",
    "Region_Sum"
   ]
  },
  {
   "cell_type": "code",
   "execution_count": 22,
   "metadata": {},
   "outputs": [
    {
     "data": {
      "image/png": "[encoded data removed]",
      "text/plain": [
       "<Figure size 432x288 with 1 Axes>"
      ]
     },
     "metadata": {},
     "output_type": "display_data"
    }
   ],
   "source": [
    "sns.barplot(Region_Sum['Region'], Region_Sum['Amount Spent'], order=Region_Sum.sort_values('Amount Spent').Region);"
   ]
  },
  {
   "cell_type": "markdown",
   "metadata": {},
   "source": [
    "#### ----------------------------------------------------------------------------------------------------------------------------------------------------------------------------------------\n",
    "## Channel\n",
    "#### ----------------------------------------------------------------------------------------------------------------------------------------------------------------------------------------"
   ]
  },
  {
   "cell_type": "code",
   "execution_count": 23,
   "metadata": {},
   "outputs": [
    {
     "data": {
      "text/plain": [
       "array(['Retail', 'Hotel'], dtype=object)"
      ]
     },
     "execution_count": 23,
     "metadata": {},
     "output_type": "execute_result"
    }
   ],
   "source": [
    "mydata['Channel'].unique()"
   ]
  },
  {
   "cell_type": "code",
   "execution_count": 24,
   "metadata": {},
   "outputs": [],
   "source": [
    "Product_Sum_Retail = 0\n",
    "\n",
    "for i in range(0,6):\n",
    "    Product_Sum_Retail = Product_Sum_Retail + mydata[mydata['Channel'] == 'Retail'][Products[i]].sum()"
   ]
  },
  {
   "cell_type": "code",
   "execution_count": 25,
   "metadata": {},
   "outputs": [
    {
     "data": {
      "text/plain": [
       "6619931"
      ]
     },
     "execution_count": 25,
     "metadata": {},
     "output_type": "execute_result"
    }
   ],
   "source": [
    "Product_Sum_Retail"
   ]
  },
  {
   "cell_type": "code",
   "execution_count": 26,
   "metadata": {},
   "outputs": [],
   "source": [
    "Product_Sum_Hotel = 0\n",
    "\n",
    "for i in range(0,6):\n",
    "    Product_Sum_Hotel = Product_Sum_Hotel + mydata[mydata['Channel'] == 'Hotel'][Products[i]].sum()"
   ]
  },
  {
   "cell_type": "code",
   "execution_count": 27,
   "metadata": {},
   "outputs": [
    {
     "data": {
      "text/plain": [
       "7999569"
      ]
     },
     "execution_count": 27,
     "metadata": {},
     "output_type": "execute_result"
    }
   ],
   "source": [
    "Product_Sum_Hotel"
   ]
  },
  {
   "cell_type": "code",
   "execution_count": 28,
   "metadata": {},
   "outputs": [
    {
     "data": {
      "text/html": [
       "<div>\n",
       "<style scoped>\n",
       "    .dataframe tbody tr th:only-of-type {\n",
       "        vertical-align: middle;\n",
       "    }\n",
       "\n",
       "    .dataframe tbody tr th {\n",
       "        vertical-align: top;\n",
       "    }\n",
       "\n",
       "    .dataframe thead th {\n",
       "        text-align: right;\n",
       "    }\n",
       "</style>\n",
       "<table border=\"1\" class=\"dataframe\">\n",
       "  <thead>\n",
       "    <tr style=\"text-align: right;\">\n",
       "      <th></th>\n",
       "      <th>Channel</th>\n",
       "      <th>Amount Spent</th>\n",
       "    </tr>\n",
       "  </thead>\n",
       "  <tbody>\n",
       "    <tr>\n",
       "      <th>0</th>\n",
       "      <td>Retail</td>\n",
       "      <td>6619931</td>\n",
       "    </tr>\n",
       "    <tr>\n",
       "      <th>1</th>\n",
       "      <td>Hotel</td>\n",
       "      <td>7999569</td>\n",
       "    </tr>\n",
       "  </tbody>\n",
       "</table>\n",
       "</div>"
      ],
      "text/plain": [
       "  Channel  Amount Spent\n",
       "0  Retail       6619931\n",
       "1   Hotel       7999569"
      ]
     },
     "execution_count": 28,
     "metadata": {},
     "output_type": "execute_result"
    }
   ],
   "source": [
    "df_2 = {'Channel':['Retail', 'Hotel'],\n",
    "        'Amount Spent':[Product_Sum_Retail, Product_Sum_Hotel]}\n",
    "  \n",
    "Channel_Sum = pd.DataFrame(df_2)\n",
    "\n",
    "Channel_Sum"
   ]
  },
  {
   "cell_type": "code",
   "execution_count": 29,
   "metadata": {},
   "outputs": [
    {
     "data": {
      "image/png": "[encoded data removed]",
      "text/plain": [
       "<Figure size 432x288 with 1 Axes>"
      ]
     },
     "metadata": {},
     "output_type": "display_data"
    }
   ],
   "source": [
    "sns.barplot(Channel_Sum['Channel'], Channel_Sum['Amount Spent'], order=Channel_Sum.sort_values('Amount Spent').Channel);"
   ]
  },
  {
   "cell_type": "markdown",
   "metadata": {},
   "source": [
    "### 1.2 There are 6 different varieties of items that are considered. Describe and comment/explain all the varieties across Region and Channel? Provide a detailed justification for your answer."
   ]
  },
  {
   "cell_type": "markdown",
   "metadata": {},
   "source": [
    "#### ----------------------------------------------------------------------------------------------------------------------------------------------------------------------------------------\n",
    "## Region\n",
    "#### ----------------------------------------------------------------------------------------------------------------------------------------------------------------------------------------"
   ]
  },
  {
   "cell_type": "code",
   "execution_count": 31,
   "metadata": {},
   "outputs": [],
   "source": [
    "Products = ['Fresh', 'Milk', 'Grocery','Frozen', 'Detergents_Paper', 'Delicatessen']\n",
    "Lisbon_item = {}\n",
    "\n",
    "for i in range(0,6):\n",
    "    Lisbon_item[Products[i]] = mydata[mydata['Region'] == 'Lisbon'][Products[i]].sum()"
   ]
  },
  {
   "cell_type": "code",
   "execution_count": 32,
   "metadata": {},
   "outputs": [
    {
     "data": {
      "text/plain": [
       "{'Fresh': 854833,\n",
       " 'Milk': 422454,\n",
       " 'Grocery': 570037,\n",
       " 'Frozen': 231026,\n",
       " 'Detergents_Paper': 204136,\n",
       " 'Delicatessen': 104327}"
      ]
     },
     "execution_count": 32,
     "metadata": {},
     "output_type": "execute_result"
    }
   ],
   "source": [
    "Lisbon_item"
   ]
  },
  {
   "cell_type": "code",
   "execution_count": 33,
   "metadata": {},
   "outputs": [
    {
     "data": {
      "image/png": "[encoded data removed]",
      "text/plain": [
       "<Figure size 864x504 with 1 Axes>"
      ]
     },
     "metadata": {},
     "output_type": "display_data"
    }
   ],
   "source": [
    "plt.figure(figsize=(12,7))\n",
    "names_1 = list(Lisbon_item.keys())\n",
    "values_1 = list(Lisbon_item.values())\n",
    "sns.barplot(values_1, names_1);\n",
    "plt.title(\"Lisbon\");\n",
    "plt.xlabel(\"Amount Spent\");\n",
    "plt.ylabel(\"Products\");"
   ]
  },
  {
   "cell_type": "code",
   "execution_count": 34,
   "metadata": {},
   "outputs": [],
   "source": [
    "Products = ['Fresh', 'Milk', 'Grocery','Frozen', 'Detergents_Paper', 'Delicatessen']\n",
    "Other_item = {}\n",
    "\n",
    "for i in range(0,6):\n",
    "    Other_item[Products[i]] = mydata[mydata['Region'] == 'Other'][Products[i]].sum()"
   ]
  },
  {
   "cell_type": "code",
   "execution_count": 35,
   "metadata": {},
   "outputs": [
    {
     "data": {
      "text/plain": [
       "{'Fresh': 3960577,\n",
       " 'Milk': 1888759,\n",
       " 'Grocery': 2495251,\n",
       " 'Frozen': 930492,\n",
       " 'Detergents_Paper': 890410,\n",
       " 'Delicatessen': 512110}"
      ]
     },
     "execution_count": 35,
     "metadata": {},
     "output_type": "execute_result"
    }
   ],
   "source": [
    "Other_item"
   ]
  },
  {
   "cell_type": "code",
   "execution_count": 36,
   "metadata": {},
   "outputs": [
    {
     "data": {
      "image/png": "[encoded data removed]",
      "text/plain": [
       "<Figure size 864x504 with 1 Axes>"
      ]
     },
     "metadata": {},
     "output_type": "display_data"
    }
   ],
   "source": [
    "plt.figure(figsize=(12,7))\n",
    "names_2 = list(Other_item.keys())\n",
    "values_2 = list(Other_item.values())\n",
    "sns.barplot(values_2, names_2);\n",
    "plt.title(\"Other\");\n",
    "plt.xlabel(\"Amount spent\");\n",
    "plt.ylabel(\"Products\");"
   ]
  },
  {
   "cell_type": "code",
   "execution_count": 37,
   "metadata": {},
   "outputs": [],
   "source": [
    "Products = ['Fresh', 'Milk', 'Grocery','Frozen', 'Detergents_Paper', 'Delicatessen']\n",
    "Oporto_item = {}\n",
    "\n",
    "for i in range(0,6):\n",
    "    Oporto_item[Products[i]] = mydata[mydata['Region'] == 'Oporto'][Products[i]].sum()"
   ]
  },
  {
   "cell_type": "code",
   "execution_count": 38,
   "metadata": {},
   "outputs": [
    {
     "data": {
      "text/plain": [
       "{'Fresh': 464721,\n",
       " 'Milk': 239144,\n",
       " 'Grocery': 433274,\n",
       " 'Frozen': 190132,\n",
       " 'Detergents_Paper': 173311,\n",
       " 'Delicatessen': 54506}"
      ]
     },
     "execution_count": 38,
     "metadata": {},
     "output_type": "execute_result"
    }
   ],
   "source": [
    "Oporto_item"
   ]
  },
  {
   "cell_type": "code",
   "execution_count": 39,
   "metadata": {},
   "outputs": [
    {
     "data": {
      "image/png": "[encoded data removed]",
      "text/plain": [
       "<Figure size 864x504 with 1 Axes>"
      ]
     },
     "metadata": {},
     "output_type": "display_data"
    }
   ],
   "source": [
    "plt.figure(figsize=(12,7))\n",
    "names_3 = list(Oporto_item.keys())\n",
    "values_3 = list(Oporto_item.values())\n",
    "sns.barplot(values_3, names_3);\n",
    "plt.title(\"Oporto\");\n",
    "plt.xlabel(\"Amount spent\");\n",
    "plt.ylabel(\"Products\");"
   ]
  },
  {
   "cell_type": "code",
   "execution_count": 46,
   "metadata": {},
   "outputs": [],
   "source": [
    "region_group = mydata.groupby('Region')"
   ]
  },
  {
   "cell_type": "code",
   "execution_count": 47,
   "metadata": {},
   "outputs": [
    {
     "data": {
      "text/html": [
       "<div>\n",
       "<style scoped>\n",
       "    .dataframe tbody tr th:only-of-type {\n",
       "        vertical-align: middle;\n",
       "    }\n",
       "\n",
       "    .dataframe tbody tr th {\n",
       "        vertical-align: top;\n",
       "    }\n",
       "\n",
       "    .dataframe thead th {\n",
       "        text-align: right;\n",
       "    }\n",
       "</style>\n",
       "<table border=\"1\" class=\"dataframe\">\n",
       "  <thead>\n",
       "    <tr style=\"text-align: right;\">\n",
       "      <th></th>\n",
       "      <th>Region</th>\n",
       "      <th>Lisbon</th>\n",
       "      <th>Oporto</th>\n",
       "      <th>Other</th>\n",
       "    </tr>\n",
       "  </thead>\n",
       "  <tbody>\n",
       "    <tr>\n",
       "      <th rowspan=\"8\" valign=\"top\">Buyer/Spender</th>\n",
       "      <th>count</th>\n",
       "      <td>77.000000</td>\n",
       "      <td>47.000000</td>\n",
       "      <td>316.000000</td>\n",
       "    </tr>\n",
       "    <tr>\n",
       "      <th>mean</th>\n",
       "      <td>235.000000</td>\n",
       "      <td>317.000000</td>\n",
       "      <td>202.613924</td>\n",
       "    </tr>\n",
       "    <tr>\n",
       "      <th>std</th>\n",
       "      <td>22.371857</td>\n",
       "      <td>13.711309</td>\n",
       "      <td>143.615303</td>\n",
       "    </tr>\n",
       "    <tr>\n",
       "      <th>min</th>\n",
       "      <td>197.000000</td>\n",
       "      <td>294.000000</td>\n",
       "      <td>1.000000</td>\n",
       "    </tr>\n",
       "    <tr>\n",
       "      <th>25%</th>\n",
       "      <td>216.000000</td>\n",
       "      <td>305.500000</td>\n",
       "      <td>79.750000</td>\n",
       "    </tr>\n",
       "    <tr>\n",
       "      <th>50%</th>\n",
       "      <td>235.000000</td>\n",
       "      <td>317.000000</td>\n",
       "      <td>158.500000</td>\n",
       "    </tr>\n",
       "    <tr>\n",
       "      <th>75%</th>\n",
       "      <td>254.000000</td>\n",
       "      <td>328.500000</td>\n",
       "      <td>361.250000</td>\n",
       "    </tr>\n",
       "    <tr>\n",
       "      <th>max</th>\n",
       "      <td>273.000000</td>\n",
       "      <td>340.000000</td>\n",
       "      <td>440.000000</td>\n",
       "    </tr>\n",
       "    <tr>\n",
       "      <th rowspan=\"8\" valign=\"top\">Fresh</th>\n",
       "      <th>count</th>\n",
       "      <td>77.000000</td>\n",
       "      <td>47.000000</td>\n",
       "      <td>316.000000</td>\n",
       "    </tr>\n",
       "    <tr>\n",
       "      <th>mean</th>\n",
       "      <td>11101.727273</td>\n",
       "      <td>9887.680851</td>\n",
       "      <td>12533.471519</td>\n",
       "    </tr>\n",
       "    <tr>\n",
       "      <th>std</th>\n",
       "      <td>11557.438575</td>\n",
       "      <td>8387.899211</td>\n",
       "      <td>13389.213115</td>\n",
       "    </tr>\n",
       "    <tr>\n",
       "      <th>min</th>\n",
       "      <td>18.000000</td>\n",
       "      <td>3.000000</td>\n",
       "      <td>3.000000</td>\n",
       "    </tr>\n",
       "    <tr>\n",
       "      <th>25%</th>\n",
       "      <td>2806.000000</td>\n",
       "      <td>2751.500000</td>\n",
       "      <td>3350.750000</td>\n",
       "    </tr>\n",
       "    <tr>\n",
       "      <th>50%</th>\n",
       "      <td>7363.000000</td>\n",
       "      <td>8090.000000</td>\n",
       "      <td>8752.500000</td>\n",
       "    </tr>\n",
       "    <tr>\n",
       "      <th>75%</th>\n",
       "      <td>15218.000000</td>\n",
       "      <td>14925.500000</td>\n",
       "      <td>17406.500000</td>\n",
       "    </tr>\n",
       "    <tr>\n",
       "      <th>max</th>\n",
       "      <td>56083.000000</td>\n",
       "      <td>32717.000000</td>\n",
       "      <td>112151.000000</td>\n",
       "    </tr>\n",
       "    <tr>\n",
       "      <th rowspan=\"8\" valign=\"top\">Milk</th>\n",
       "      <th>count</th>\n",
       "      <td>77.000000</td>\n",
       "      <td>47.000000</td>\n",
       "      <td>316.000000</td>\n",
       "    </tr>\n",
       "    <tr>\n",
       "      <th>mean</th>\n",
       "      <td>5486.415584</td>\n",
       "      <td>5088.170213</td>\n",
       "      <td>5977.085443</td>\n",
       "    </tr>\n",
       "    <tr>\n",
       "      <th>std</th>\n",
       "      <td>5704.856079</td>\n",
       "      <td>5826.343145</td>\n",
       "      <td>7935.463443</td>\n",
       "    </tr>\n",
       "    <tr>\n",
       "      <th>min</th>\n",
       "      <td>258.000000</td>\n",
       "      <td>333.000000</td>\n",
       "      <td>55.000000</td>\n",
       "    </tr>\n",
       "    <tr>\n",
       "      <th>25%</th>\n",
       "      <td>1372.000000</td>\n",
       "      <td>1430.500000</td>\n",
       "      <td>1634.000000</td>\n",
       "    </tr>\n",
       "    <tr>\n",
       "      <th>50%</th>\n",
       "      <td>3748.000000</td>\n",
       "      <td>2374.000000</td>\n",
       "      <td>3684.500000</td>\n",
       "    </tr>\n",
       "    <tr>\n",
       "      <th>75%</th>\n",
       "      <td>7503.000000</td>\n",
       "      <td>5772.500000</td>\n",
       "      <td>7198.750000</td>\n",
       "    </tr>\n",
       "    <tr>\n",
       "      <th>max</th>\n",
       "      <td>28326.000000</td>\n",
       "      <td>25071.000000</td>\n",
       "      <td>73498.000000</td>\n",
       "    </tr>\n",
       "    <tr>\n",
       "      <th rowspan=\"8\" valign=\"top\">Grocery</th>\n",
       "      <th>count</th>\n",
       "      <td>77.000000</td>\n",
       "      <td>47.000000</td>\n",
       "      <td>316.000000</td>\n",
       "    </tr>\n",
       "    <tr>\n",
       "      <th>mean</th>\n",
       "      <td>7403.077922</td>\n",
       "      <td>9218.595745</td>\n",
       "      <td>7896.363924</td>\n",
       "    </tr>\n",
       "    <tr>\n",
       "      <th>std</th>\n",
       "      <td>8496.287728</td>\n",
       "      <td>10842.745314</td>\n",
       "      <td>9537.287778</td>\n",
       "    </tr>\n",
       "    <tr>\n",
       "      <th>min</th>\n",
       "      <td>489.000000</td>\n",
       "      <td>1330.000000</td>\n",
       "      <td>3.000000</td>\n",
       "    </tr>\n",
       "    <tr>\n",
       "      <th>25%</th>\n",
       "      <td>2046.000000</td>\n",
       "      <td>2792.500000</td>\n",
       "      <td>2141.500000</td>\n",
       "    </tr>\n",
       "    <tr>\n",
       "      <th>50%</th>\n",
       "      <td>3838.000000</td>\n",
       "      <td>6114.000000</td>\n",
       "      <td>4732.000000</td>\n",
       "    </tr>\n",
       "    <tr>\n",
       "      <th>75%</th>\n",
       "      <td>9490.000000</td>\n",
       "      <td>11758.500000</td>\n",
       "      <td>10559.750000</td>\n",
       "    </tr>\n",
       "    <tr>\n",
       "      <th>max</th>\n",
       "      <td>39694.000000</td>\n",
       "      <td>67298.000000</td>\n",
       "      <td>92780.000000</td>\n",
       "    </tr>\n",
       "    <tr>\n",
       "      <th rowspan=\"8\" valign=\"top\">Frozen</th>\n",
       "      <th>count</th>\n",
       "      <td>77.000000</td>\n",
       "      <td>47.000000</td>\n",
       "      <td>316.000000</td>\n",
       "    </tr>\n",
       "    <tr>\n",
       "      <th>mean</th>\n",
       "      <td>3000.337662</td>\n",
       "      <td>4045.361702</td>\n",
       "      <td>2944.594937</td>\n",
       "    </tr>\n",
       "    <tr>\n",
       "      <th>std</th>\n",
       "      <td>3092.143894</td>\n",
       "      <td>9151.784954</td>\n",
       "      <td>4260.126243</td>\n",
       "    </tr>\n",
       "    <tr>\n",
       "      <th>min</th>\n",
       "      <td>61.000000</td>\n",
       "      <td>131.000000</td>\n",
       "      <td>25.000000</td>\n",
       "    </tr>\n",
       "    <tr>\n",
       "      <th>25%</th>\n",
       "      <td>950.000000</td>\n",
       "      <td>811.500000</td>\n",
       "      <td>664.750000</td>\n",
       "    </tr>\n",
       "    <tr>\n",
       "      <th>50%</th>\n",
       "      <td>1801.000000</td>\n",
       "      <td>1455.000000</td>\n",
       "      <td>1498.000000</td>\n",
       "    </tr>\n",
       "    <tr>\n",
       "      <th>75%</th>\n",
       "      <td>4324.000000</td>\n",
       "      <td>3272.000000</td>\n",
       "      <td>3354.750000</td>\n",
       "    </tr>\n",
       "    <tr>\n",
       "      <th>max</th>\n",
       "      <td>18711.000000</td>\n",
       "      <td>60869.000000</td>\n",
       "      <td>36534.000000</td>\n",
       "    </tr>\n",
       "    <tr>\n",
       "      <th rowspan=\"8\" valign=\"top\">Detergents_Paper</th>\n",
       "      <th>count</th>\n",
       "      <td>77.000000</td>\n",
       "      <td>47.000000</td>\n",
       "      <td>316.000000</td>\n",
       "    </tr>\n",
       "    <tr>\n",
       "      <th>mean</th>\n",
       "      <td>2651.116883</td>\n",
       "      <td>3687.468085</td>\n",
       "      <td>2817.753165</td>\n",
       "    </tr>\n",
       "    <tr>\n",
       "      <th>std</th>\n",
       "      <td>4208.462708</td>\n",
       "      <td>6514.717668</td>\n",
       "      <td>4593.051613</td>\n",
       "    </tr>\n",
       "    <tr>\n",
       "      <th>min</th>\n",
       "      <td>5.000000</td>\n",
       "      <td>15.000000</td>\n",
       "      <td>3.000000</td>\n",
       "    </tr>\n",
       "    <tr>\n",
       "      <th>25%</th>\n",
       "      <td>284.000000</td>\n",
       "      <td>282.500000</td>\n",
       "      <td>251.250000</td>\n",
       "    </tr>\n",
       "    <tr>\n",
       "      <th>50%</th>\n",
       "      <td>737.000000</td>\n",
       "      <td>811.000000</td>\n",
       "      <td>856.000000</td>\n",
       "    </tr>\n",
       "    <tr>\n",
       "      <th>75%</th>\n",
       "      <td>3593.000000</td>\n",
       "      <td>4324.500000</td>\n",
       "      <td>3875.750000</td>\n",
       "    </tr>\n",
       "    <tr>\n",
       "      <th>max</th>\n",
       "      <td>19410.000000</td>\n",
       "      <td>38102.000000</td>\n",
       "      <td>40827.000000</td>\n",
       "    </tr>\n",
       "    <tr>\n",
       "      <th rowspan=\"8\" valign=\"top\">Delicatessen</th>\n",
       "      <th>count</th>\n",
       "      <td>77.000000</td>\n",
       "      <td>47.000000</td>\n",
       "      <td>316.000000</td>\n",
       "    </tr>\n",
       "    <tr>\n",
       "      <th>mean</th>\n",
       "      <td>1354.896104</td>\n",
       "      <td>1159.702128</td>\n",
       "      <td>1620.601266</td>\n",
       "    </tr>\n",
       "    <tr>\n",
       "      <th>std</th>\n",
       "      <td>1345.423340</td>\n",
       "      <td>1050.739841</td>\n",
       "      <td>3232.581660</td>\n",
       "    </tr>\n",
       "    <tr>\n",
       "      <th>min</th>\n",
       "      <td>7.000000</td>\n",
       "      <td>51.000000</td>\n",
       "      <td>3.000000</td>\n",
       "    </tr>\n",
       "    <tr>\n",
       "      <th>25%</th>\n",
       "      <td>548.000000</td>\n",
       "      <td>540.500000</td>\n",
       "      <td>402.000000</td>\n",
       "    </tr>\n",
       "    <tr>\n",
       "      <th>50%</th>\n",
       "      <td>806.000000</td>\n",
       "      <td>898.000000</td>\n",
       "      <td>994.000000</td>\n",
       "    </tr>\n",
       "    <tr>\n",
       "      <th>75%</th>\n",
       "      <td>1775.000000</td>\n",
       "      <td>1538.500000</td>\n",
       "      <td>1832.750000</td>\n",
       "    </tr>\n",
       "    <tr>\n",
       "      <th>max</th>\n",
       "      <td>6854.000000</td>\n",
       "      <td>5609.000000</td>\n",
       "      <td>47943.000000</td>\n",
       "    </tr>\n",
       "  </tbody>\n",
       "</table>\n",
       "</div>"
      ],
      "text/plain": [
       "Region                        Lisbon        Oporto          Other\n",
       "Buyer/Spender    count     77.000000     47.000000     316.000000\n",
       "                 mean     235.000000    317.000000     202.613924\n",
       "                 std       22.371857     13.711309     143.615303\n",
       "                 min      197.000000    294.000000       1.000000\n",
       "                 25%      216.000000    305.500000      79.750000\n",
       "                 50%      235.000000    317.000000     158.500000\n",
       "                 75%      254.000000    328.500000     361.250000\n",
       "                 max      273.000000    340.000000     440.000000\n",
       "Fresh            count     77.000000     47.000000     316.000000\n",
       "                 mean   11101.727273   9887.680851   12533.471519\n",
       "                 std    11557.438575   8387.899211   13389.213115\n",
       "                 min       18.000000      3.000000       3.000000\n",
       "                 25%     2806.000000   2751.500000    3350.750000\n",
       "                 50%     7363.000000   8090.000000    8752.500000\n",
       "                 75%    15218.000000  14925.500000   17406.500000\n",
       "                 max    56083.000000  32717.000000  112151.000000\n",
       "Milk             count     77.000000     47.000000     316.000000\n",
       "                 mean    5486.415584   5088.170213    5977.085443\n",
       "                 std     5704.856079   5826.343145    7935.463443\n",
       "                 min      258.000000    333.000000      55.000000\n",
       "                 25%     1372.000000   1430.500000    1634.000000\n",
       "                 50%     3748.000000   2374.000000    3684.500000\n",
       "                 75%     7503.000000   5772.500000    7198.750000\n",
       "                 max    28326.000000  25071.000000   73498.000000\n",
       "Grocery          count     77.000000     47.000000     316.000000\n",
       "                 mean    7403.077922   9218.595745    7896.363924\n",
       "                 std     8496.287728  10842.745314    9537.287778\n",
       "                 min      489.000000   1330.000000       3.000000\n",
       "                 25%     2046.000000   2792.500000    2141.500000\n",
       "                 50%     3838.000000   6114.000000    4732.000000\n",
       "                 75%     9490.000000  11758.500000   10559.750000\n",
       "                 max    39694.000000  67298.000000   92780.000000\n",
       "Frozen           count     77.000000     47.000000     316.000000\n",
       "                 mean    3000.337662   4045.361702    2944.594937\n",
       "                 std     3092.143894   9151.784954    4260.126243\n",
       "                 min       61.000000    131.000000      25.000000\n",
       "                 25%      950.000000    811.500000     664.750000\n",
       "                 50%     1801.000000   1455.000000    1498.000000\n",
       "                 75%     4324.000000   3272.000000    3354.750000\n",
       "                 max    18711.000000  60869.000000   36534.000000\n",
       "Detergents_Paper count     77.000000     47.000000     316.000000\n",
       "                 mean    2651.116883   3687.468085    2817.753165\n",
       "                 std     4208.462708   6514.717668    4593.051613\n",
       "                 min        5.000000     15.000000       3.000000\n",
       "                 25%      284.000000    282.500000     251.250000\n",
       "                 50%      737.000000    811.000000     856.000000\n",
       "                 75%     3593.000000   4324.500000    3875.750000\n",
       "                 max    19410.000000  38102.000000   40827.000000\n",
       "Delicatessen     count     77.000000     47.000000     316.000000\n",
       "                 mean    1354.896104   1159.702128    1620.601266\n",
       "                 std     1345.423340   1050.739841    3232.581660\n",
       "                 min        7.000000     51.000000       3.000000\n",
       "                 25%      548.000000    540.500000     402.000000\n",
       "                 50%      806.000000    898.000000     994.000000\n",
       "                 75%     1775.000000   1538.500000    1832.750000\n",
       "                 max     6854.000000   5609.000000   47943.000000"
      ]
     },
     "execution_count": 47,
     "metadata": {},
     "output_type": "execute_result"
    }
   ],
   "source": [
    "region_group.describe().T"
   ]
  },
  {
   "cell_type": "markdown",
   "metadata": {},
   "source": [
    "#### ----------------------------------------------------------------------------------------------------------------------------------------------------------------------------------------\n",
    "## Channel\n",
    "#### ----------------------------------------------------------------------------------------------------------------------------------------------------------------------------------------"
   ]
  },
  {
   "cell_type": "code",
   "execution_count": 40,
   "metadata": {},
   "outputs": [],
   "source": [
    "Products = ['Fresh', 'Milk', 'Grocery','Frozen', 'Detergents_Paper', 'Delicatessen']\n",
    "Hotel_item = {}\n",
    "\n",
    "for i in range(0,6):\n",
    "    Hotel_item[Products[i]] = mydata[mydata['Channel'] == 'Hotel'][Products[i]].sum()"
   ]
  },
  {
   "cell_type": "code",
   "execution_count": 41,
   "metadata": {},
   "outputs": [
    {
     "data": {
      "text/plain": [
       "{'Fresh': 4015717,\n",
       " 'Milk': 1028614,\n",
       " 'Grocery': 1180717,\n",
       " 'Frozen': 1116979,\n",
       " 'Detergents_Paper': 235587,\n",
       " 'Delicatessen': 421955}"
      ]
     },
     "execution_count": 41,
     "metadata": {},
     "output_type": "execute_result"
    }
   ],
   "source": [
    "Hotel_item"
   ]
  },
  {
   "cell_type": "code",
   "execution_count": 42,
   "metadata": {},
   "outputs": [
    {
     "data": {
      "image/png": "[encoded data removed]",
      "text/plain": [
       "<Figure size 864x504 with 1 Axes>"
      ]
     },
     "metadata": {},
     "output_type": "display_data"
    }
   ],
   "source": [
    "plt.figure(figsize=(12,7))\n",
    "names_4 = list(Hotel_item.keys())\n",
    "values_4 = list(Hotel_item.values())\n",
    "sns.barplot(values_4, names_4);\n",
    "plt.title(\"Hotel\");\n",
    "plt.xlabel(\"Amount spent\");\n",
    "plt.ylabel(\"Products\");"
   ]
  },
  {
   "cell_type": "code",
   "execution_count": 43,
   "metadata": {},
   "outputs": [],
   "source": [
    "Products = ['Fresh', 'Milk', 'Grocery','Frozen', 'Detergents_Paper', 'Delicatessen']\n",
    "Retail_item = {}\n",
    "\n",
    "for i in range(0,6):\n",
    "    Retail_item[Products[i]] = mydata[mydata['Channel'] == 'Retail'][Products[i]].sum()"
   ]
  },
  {
   "cell_type": "code",
   "execution_count": 44,
   "metadata": {},
   "outputs": [
    {
     "data": {
      "text/plain": [
       "{'Fresh': 1264414,\n",
       " 'Milk': 1521743,\n",
       " 'Grocery': 2317845,\n",
       " 'Frozen': 234671,\n",
       " 'Detergents_Paper': 1032270,\n",
       " 'Delicatessen': 248988}"
      ]
     },
     "execution_count": 44,
     "metadata": {},
     "output_type": "execute_result"
    }
   ],
   "source": [
    "Retail_item"
   ]
  },
  {
   "cell_type": "code",
   "execution_count": 45,
   "metadata": {},
   "outputs": [
    {
     "data": {
      "image/png": "[encoded data removed]",
      "text/plain": [
       "<Figure size 864x504 with 1 Axes>"
      ]
     },
     "metadata": {},
     "output_type": "display_data"
    }
   ],
   "source": [
    "plt.figure(figsize=(12,7))\n",
    "names_5 = list(Retail_item.keys())\n",
    "values_5 = list(Retail_item.values())\n",
    "sns.barplot(values_5, names_5);\n",
    "plt.title(\"Retail\");\n",
    "plt.xlabel(\"Amount spent\");\n",
    "plt.ylabel(\"Products\");"
   ]
  },
  {
   "cell_type": "code",
   "execution_count": 48,
   "metadata": {},
   "outputs": [],
   "source": [
    "channel_group = mydata.groupby('Channel')"
   ]
  },
  {
   "cell_type": "code",
   "execution_count": 49,
   "metadata": {},
   "outputs": [
    {
     "data": {
      "text/html": [
       "<div>\n",
       "<style scoped>\n",
       "    .dataframe tbody tr th:only-of-type {\n",
       "        vertical-align: middle;\n",
       "    }\n",
       "\n",
       "    .dataframe tbody tr th {\n",
       "        vertical-align: top;\n",
       "    }\n",
       "\n",
       "    .dataframe thead th {\n",
       "        text-align: right;\n",
       "    }\n",
       "</style>\n",
       "<table border=\"1\" class=\"dataframe\">\n",
       "  <thead>\n",
       "    <tr style=\"text-align: right;\">\n",
       "      <th></th>\n",
       "      <th>Channel</th>\n",
       "      <th>Hotel</th>\n",
       "      <th>Retail</th>\n",
       "    </tr>\n",
       "  </thead>\n",
       "  <tbody>\n",
       "    <tr>\n",
       "      <th rowspan=\"8\" valign=\"top\">Buyer/Spender</th>\n",
       "      <th>count</th>\n",
       "      <td>298.000000</td>\n",
       "      <td>142.000000</td>\n",
       "    </tr>\n",
       "    <tr>\n",
       "      <th>mean</th>\n",
       "      <td>238.369128</td>\n",
       "      <td>183.000000</td>\n",
       "    </tr>\n",
       "    <tr>\n",
       "      <th>std</th>\n",
       "      <td>120.910343</td>\n",
       "      <td>132.136132</td>\n",
       "    </tr>\n",
       "    <tr>\n",
       "      <th>min</th>\n",
       "      <td>4.000000</td>\n",
       "      <td>1.000000</td>\n",
       "    </tr>\n",
       "    <tr>\n",
       "      <th>25%</th>\n",
       "      <td>137.250000</td>\n",
       "      <td>61.250000</td>\n",
       "    </tr>\n",
       "    <tr>\n",
       "      <th>50%</th>\n",
       "      <td>241.500000</td>\n",
       "      <td>166.500000</td>\n",
       "    </tr>\n",
       "    <tr>\n",
       "      <th>75%</th>\n",
       "      <td>344.500000</td>\n",
       "      <td>303.750000</td>\n",
       "    </tr>\n",
       "    <tr>\n",
       "      <th>max</th>\n",
       "      <td>440.000000</td>\n",
       "      <td>438.000000</td>\n",
       "    </tr>\n",
       "    <tr>\n",
       "      <th rowspan=\"8\" valign=\"top\">Fresh</th>\n",
       "      <th>count</th>\n",
       "      <td>298.000000</td>\n",
       "      <td>142.000000</td>\n",
       "    </tr>\n",
       "    <tr>\n",
       "      <th>mean</th>\n",
       "      <td>13475.560403</td>\n",
       "      <td>8904.323944</td>\n",
       "    </tr>\n",
       "    <tr>\n",
       "      <th>std</th>\n",
       "      <td>13831.687502</td>\n",
       "      <td>8987.714750</td>\n",
       "    </tr>\n",
       "    <tr>\n",
       "      <th>min</th>\n",
       "      <td>3.000000</td>\n",
       "      <td>18.000000</td>\n",
       "    </tr>\n",
       "    <tr>\n",
       "      <th>25%</th>\n",
       "      <td>4070.250000</td>\n",
       "      <td>2347.750000</td>\n",
       "    </tr>\n",
       "    <tr>\n",
       "      <th>50%</th>\n",
       "      <td>9581.500000</td>\n",
       "      <td>5993.500000</td>\n",
       "    </tr>\n",
       "    <tr>\n",
       "      <th>75%</th>\n",
       "      <td>18274.750000</td>\n",
       "      <td>12229.750000</td>\n",
       "    </tr>\n",
       "    <tr>\n",
       "      <th>max</th>\n",
       "      <td>112151.000000</td>\n",
       "      <td>44466.000000</td>\n",
       "    </tr>\n",
       "    <tr>\n",
       "      <th rowspan=\"8\" valign=\"top\">Milk</th>\n",
       "      <th>count</th>\n",
       "      <td>298.000000</td>\n",
       "      <td>142.000000</td>\n",
       "    </tr>\n",
       "    <tr>\n",
       "      <th>mean</th>\n",
       "      <td>3451.724832</td>\n",
       "      <td>10716.500000</td>\n",
       "    </tr>\n",
       "    <tr>\n",
       "      <th>std</th>\n",
       "      <td>4352.165571</td>\n",
       "      <td>9679.631351</td>\n",
       "    </tr>\n",
       "    <tr>\n",
       "      <th>min</th>\n",
       "      <td>55.000000</td>\n",
       "      <td>928.000000</td>\n",
       "    </tr>\n",
       "    <tr>\n",
       "      <th>25%</th>\n",
       "      <td>1164.500000</td>\n",
       "      <td>5938.000000</td>\n",
       "    </tr>\n",
       "    <tr>\n",
       "      <th>50%</th>\n",
       "      <td>2157.000000</td>\n",
       "      <td>7812.000000</td>\n",
       "    </tr>\n",
       "    <tr>\n",
       "      <th>75%</th>\n",
       "      <td>4029.500000</td>\n",
       "      <td>12162.750000</td>\n",
       "    </tr>\n",
       "    <tr>\n",
       "      <th>max</th>\n",
       "      <td>43950.000000</td>\n",
       "      <td>73498.000000</td>\n",
       "    </tr>\n",
       "    <tr>\n",
       "      <th rowspan=\"8\" valign=\"top\">Grocery</th>\n",
       "      <th>count</th>\n",
       "      <td>298.000000</td>\n",
       "      <td>142.000000</td>\n",
       "    </tr>\n",
       "    <tr>\n",
       "      <th>mean</th>\n",
       "      <td>3962.137584</td>\n",
       "      <td>16322.852113</td>\n",
       "    </tr>\n",
       "    <tr>\n",
       "      <th>std</th>\n",
       "      <td>3545.513391</td>\n",
       "      <td>12267.318094</td>\n",
       "    </tr>\n",
       "    <tr>\n",
       "      <th>min</th>\n",
       "      <td>3.000000</td>\n",
       "      <td>2743.000000</td>\n",
       "    </tr>\n",
       "    <tr>\n",
       "      <th>25%</th>\n",
       "      <td>1703.750000</td>\n",
       "      <td>9245.250000</td>\n",
       "    </tr>\n",
       "    <tr>\n",
       "      <th>50%</th>\n",
       "      <td>2684.000000</td>\n",
       "      <td>12390.000000</td>\n",
       "    </tr>\n",
       "    <tr>\n",
       "      <th>75%</th>\n",
       "      <td>5076.750000</td>\n",
       "      <td>20183.500000</td>\n",
       "    </tr>\n",
       "    <tr>\n",
       "      <th>max</th>\n",
       "      <td>21042.000000</td>\n",
       "      <td>92780.000000</td>\n",
       "    </tr>\n",
       "    <tr>\n",
       "      <th rowspan=\"8\" valign=\"top\">Frozen</th>\n",
       "      <th>count</th>\n",
       "      <td>298.000000</td>\n",
       "      <td>142.000000</td>\n",
       "    </tr>\n",
       "    <tr>\n",
       "      <th>mean</th>\n",
       "      <td>3748.251678</td>\n",
       "      <td>1652.612676</td>\n",
       "    </tr>\n",
       "    <tr>\n",
       "      <th>std</th>\n",
       "      <td>5643.912500</td>\n",
       "      <td>1812.803662</td>\n",
       "    </tr>\n",
       "    <tr>\n",
       "      <th>min</th>\n",
       "      <td>25.000000</td>\n",
       "      <td>33.000000</td>\n",
       "    </tr>\n",
       "    <tr>\n",
       "      <th>25%</th>\n",
       "      <td>830.000000</td>\n",
       "      <td>534.250000</td>\n",
       "    </tr>\n",
       "    <tr>\n",
       "      <th>50%</th>\n",
       "      <td>2057.500000</td>\n",
       "      <td>1081.000000</td>\n",
       "    </tr>\n",
       "    <tr>\n",
       "      <th>75%</th>\n",
       "      <td>4558.750000</td>\n",
       "      <td>2146.750000</td>\n",
       "    </tr>\n",
       "    <tr>\n",
       "      <th>max</th>\n",
       "      <td>60869.000000</td>\n",
       "      <td>11559.000000</td>\n",
       "    </tr>\n",
       "    <tr>\n",
       "      <th rowspan=\"8\" valign=\"top\">Detergents_Paper</th>\n",
       "      <th>count</th>\n",
       "      <td>298.000000</td>\n",
       "      <td>142.000000</td>\n",
       "    </tr>\n",
       "    <tr>\n",
       "      <th>mean</th>\n",
       "      <td>790.560403</td>\n",
       "      <td>7269.507042</td>\n",
       "    </tr>\n",
       "    <tr>\n",
       "      <th>std</th>\n",
       "      <td>1104.093673</td>\n",
       "      <td>6291.089697</td>\n",
       "    </tr>\n",
       "    <tr>\n",
       "      <th>min</th>\n",
       "      <td>3.000000</td>\n",
       "      <td>332.000000</td>\n",
       "    </tr>\n",
       "    <tr>\n",
       "      <th>25%</th>\n",
       "      <td>183.250000</td>\n",
       "      <td>3683.500000</td>\n",
       "    </tr>\n",
       "    <tr>\n",
       "      <th>50%</th>\n",
       "      <td>385.500000</td>\n",
       "      <td>5614.500000</td>\n",
       "    </tr>\n",
       "    <tr>\n",
       "      <th>75%</th>\n",
       "      <td>899.500000</td>\n",
       "      <td>8662.500000</td>\n",
       "    </tr>\n",
       "    <tr>\n",
       "      <th>max</th>\n",
       "      <td>6907.000000</td>\n",
       "      <td>40827.000000</td>\n",
       "    </tr>\n",
       "    <tr>\n",
       "      <th rowspan=\"8\" valign=\"top\">Delicatessen</th>\n",
       "      <th>count</th>\n",
       "      <td>298.000000</td>\n",
       "      <td>142.000000</td>\n",
       "    </tr>\n",
       "    <tr>\n",
       "      <th>mean</th>\n",
       "      <td>1415.956376</td>\n",
       "      <td>1753.436620</td>\n",
       "    </tr>\n",
       "    <tr>\n",
       "      <th>std</th>\n",
       "      <td>3147.426922</td>\n",
       "      <td>1953.797047</td>\n",
       "    </tr>\n",
       "    <tr>\n",
       "      <th>min</th>\n",
       "      <td>3.000000</td>\n",
       "      <td>3.000000</td>\n",
       "    </tr>\n",
       "    <tr>\n",
       "      <th>25%</th>\n",
       "      <td>379.000000</td>\n",
       "      <td>566.750000</td>\n",
       "    </tr>\n",
       "    <tr>\n",
       "      <th>50%</th>\n",
       "      <td>821.000000</td>\n",
       "      <td>1350.000000</td>\n",
       "    </tr>\n",
       "    <tr>\n",
       "      <th>75%</th>\n",
       "      <td>1548.000000</td>\n",
       "      <td>2156.000000</td>\n",
       "    </tr>\n",
       "    <tr>\n",
       "      <th>max</th>\n",
       "      <td>47943.000000</td>\n",
       "      <td>16523.000000</td>\n",
       "    </tr>\n",
       "  </tbody>\n",
       "</table>\n",
       "</div>"
      ],
      "text/plain": [
       "Channel                         Hotel        Retail\n",
       "Buyer/Spender    count     298.000000    142.000000\n",
       "                 mean      238.369128    183.000000\n",
       "                 std       120.910343    132.136132\n",
       "                 min         4.000000      1.000000\n",
       "                 25%       137.250000     61.250000\n",
       "                 50%       241.500000    166.500000\n",
       "                 75%       344.500000    303.750000\n",
       "                 max       440.000000    438.000000\n",
       "Fresh            count     298.000000    142.000000\n",
       "                 mean    13475.560403   8904.323944\n",
       "                 std     13831.687502   8987.714750\n",
       "                 min         3.000000     18.000000\n",
       "                 25%      4070.250000   2347.750000\n",
       "                 50%      9581.500000   5993.500000\n",
       "                 75%     18274.750000  12229.750000\n",
       "                 max    112151.000000  44466.000000\n",
       "Milk             count     298.000000    142.000000\n",
       "                 mean     3451.724832  10716.500000\n",
       "                 std      4352.165571   9679.631351\n",
       "                 min        55.000000    928.000000\n",
       "                 25%      1164.500000   5938.000000\n",
       "                 50%      2157.000000   7812.000000\n",
       "                 75%      4029.500000  12162.750000\n",
       "                 max     43950.000000  73498.000000\n",
       "Grocery          count     298.000000    142.000000\n",
       "                 mean     3962.137584  16322.852113\n",
       "                 std      3545.513391  12267.318094\n",
       "                 min         3.000000   2743.000000\n",
       "                 25%      1703.750000   9245.250000\n",
       "                 50%      2684.000000  12390.000000\n",
       "                 75%      5076.750000  20183.500000\n",
       "                 max     21042.000000  92780.000000\n",
       "Frozen           count     298.000000    142.000000\n",
       "                 mean     3748.251678   1652.612676\n",
       "                 std      5643.912500   1812.803662\n",
       "                 min        25.000000     33.000000\n",
       "                 25%       830.000000    534.250000\n",
       "                 50%      2057.500000   1081.000000\n",
       "                 75%      4558.750000   2146.750000\n",
       "                 max     60869.000000  11559.000000\n",
       "Detergents_Paper count     298.000000    142.000000\n",
       "                 mean      790.560403   7269.507042\n",
       "                 std      1104.093673   6291.089697\n",
       "                 min         3.000000    332.000000\n",
       "                 25%       183.250000   3683.500000\n",
       "                 50%       385.500000   5614.500000\n",
       "                 75%       899.500000   8662.500000\n",
       "                 max      6907.000000  40827.000000\n",
       "Delicatessen     count     298.000000    142.000000\n",
       "                 mean     1415.956376   1753.436620\n",
       "                 std      3147.426922   1953.797047\n",
       "                 min         3.000000      3.000000\n",
       "                 25%       379.000000    566.750000\n",
       "                 50%       821.000000   1350.000000\n",
       "                 75%      1548.000000   2156.000000\n",
       "                 max     47943.000000  16523.000000"
      ]
     },
     "execution_count": 49,
     "metadata": {},
     "output_type": "execute_result"
    }
   ],
   "source": [
    "channel_group.describe().T"
   ]
  },
  {
   "cell_type": "markdown",
   "metadata": {},
   "source": [
    "### 1.3 On the basis of a descriptive measure of variability, which item shows the most inconsistent behaviour? Which items show the least inconsistent behaviour?"
   ]
  },
  {
   "cell_type": "code",
   "execution_count": 50,
   "metadata": {},
   "outputs": [
    {
     "data": {
      "text/html": [
       "<div>\n",
       "<style scoped>\n",
       "    .dataframe tbody tr th:only-of-type {\n",
       "        vertical-align: middle;\n",
       "    }\n",
       "\n",
       "    .dataframe tbody tr th {\n",
       "        vertical-align: top;\n",
       "    }\n",
       "\n",
       "    .dataframe thead th {\n",
       "        text-align: right;\n",
       "    }\n",
       "</style>\n",
       "<table border=\"1\" class=\"dataframe\">\n",
       "  <thead>\n",
       "    <tr style=\"text-align: right;\">\n",
       "      <th></th>\n",
       "      <th>Buyer/Spender</th>\n",
       "      <th>Fresh</th>\n",
       "      <th>Milk</th>\n",
       "      <th>Grocery</th>\n",
       "      <th>Frozen</th>\n",
       "      <th>Detergents_Paper</th>\n",
       "      <th>Delicatessen</th>\n",
       "    </tr>\n",
       "  </thead>\n",
       "  <tbody>\n",
       "    <tr>\n",
       "      <th>count</th>\n",
       "      <td>440.000000</td>\n",
       "      <td>440.000000</td>\n",
       "      <td>440.000000</td>\n",
       "      <td>440.000000</td>\n",
       "      <td>440.000000</td>\n",
       "      <td>440.000000</td>\n",
       "      <td>440.000000</td>\n",
       "    </tr>\n",
       "    <tr>\n",
       "      <th>mean</th>\n",
       "      <td>220.500000</td>\n",
       "      <td>12000.297727</td>\n",
       "      <td>5796.265909</td>\n",
       "      <td>7951.277273</td>\n",
       "      <td>3071.931818</td>\n",
       "      <td>2881.493182</td>\n",
       "      <td>1524.870455</td>\n",
       "    </tr>\n",
       "    <tr>\n",
       "      <th>std</th>\n",
       "      <td>127.161315</td>\n",
       "      <td>12647.328865</td>\n",
       "      <td>7380.377175</td>\n",
       "      <td>9503.162829</td>\n",
       "      <td>4854.673333</td>\n",
       "      <td>4767.854448</td>\n",
       "      <td>2820.105937</td>\n",
       "    </tr>\n",
       "    <tr>\n",
       "      <th>min</th>\n",
       "      <td>1.000000</td>\n",
       "      <td>3.000000</td>\n",
       "      <td>55.000000</td>\n",
       "      <td>3.000000</td>\n",
       "      <td>25.000000</td>\n",
       "      <td>3.000000</td>\n",
       "      <td>3.000000</td>\n",
       "    </tr>\n",
       "    <tr>\n",
       "      <th>25%</th>\n",
       "      <td>110.750000</td>\n",
       "      <td>3127.750000</td>\n",
       "      <td>1533.000000</td>\n",
       "      <td>2153.000000</td>\n",
       "      <td>742.250000</td>\n",
       "      <td>256.750000</td>\n",
       "      <td>408.250000</td>\n",
       "    </tr>\n",
       "    <tr>\n",
       "      <th>50%</th>\n",
       "      <td>220.500000</td>\n",
       "      <td>8504.000000</td>\n",
       "      <td>3627.000000</td>\n",
       "      <td>4755.500000</td>\n",
       "      <td>1526.000000</td>\n",
       "      <td>816.500000</td>\n",
       "      <td>965.500000</td>\n",
       "    </tr>\n",
       "    <tr>\n",
       "      <th>75%</th>\n",
       "      <td>330.250000</td>\n",
       "      <td>16933.750000</td>\n",
       "      <td>7190.250000</td>\n",
       "      <td>10655.750000</td>\n",
       "      <td>3554.250000</td>\n",
       "      <td>3922.000000</td>\n",
       "      <td>1820.250000</td>\n",
       "    </tr>\n",
       "    <tr>\n",
       "      <th>max</th>\n",
       "      <td>440.000000</td>\n",
       "      <td>112151.000000</td>\n",
       "      <td>73498.000000</td>\n",
       "      <td>92780.000000</td>\n",
       "      <td>60869.000000</td>\n",
       "      <td>40827.000000</td>\n",
       "      <td>47943.000000</td>\n",
       "    </tr>\n",
       "  </tbody>\n",
       "</table>\n",
       "</div>"
      ],
      "text/plain": [
       "       Buyer/Spender          Fresh          Milk       Grocery        Frozen  \\\n",
       "count     440.000000     440.000000    440.000000    440.000000    440.000000   \n",
       "mean      220.500000   12000.297727   5796.265909   7951.277273   3071.931818   \n",
       "std       127.161315   12647.328865   7380.377175   9503.162829   4854.673333   \n",
       "min         1.000000       3.000000     55.000000      3.000000     25.000000   \n",
       "25%       110.750000    3127.750000   1533.000000   2153.000000    742.250000   \n",
       "50%       220.500000    8504.000000   3627.000000   4755.500000   1526.000000   \n",
       "75%       330.250000   16933.750000   7190.250000  10655.750000   3554.250000   \n",
       "max       440.000000  112151.000000  73498.000000  92780.000000  60869.000000   \n",
       "\n",
       "       Detergents_Paper  Delicatessen  \n",
       "count        440.000000    440.000000  \n",
       "mean        2881.493182   1524.870455  \n",
       "std         4767.854448   2820.105937  \n",
       "min            3.000000      3.000000  \n",
       "25%          256.750000    408.250000  \n",
       "50%          816.500000    965.500000  \n",
       "75%         3922.000000   1820.250000  \n",
       "max        40827.000000  47943.000000  "
      ]
     },
     "execution_count": 50,
     "metadata": {},
     "output_type": "execute_result"
    }
   ],
   "source": [
    "mydata.describe()"
   ]
  },
  {
   "cell_type": "code",
   "execution_count": 16,
   "metadata": {},
   "outputs": [
    {
     "data": {
      "text/plain": [
       "{'Fresh': 12647.328865076894,\n",
       " 'Milk': 7380.377174570843,\n",
       " 'Grocery': 9503.162828994346,\n",
       " 'Frozen': 4854.673332592367,\n",
       " 'Detergents_Paper': 4767.8544479042,\n",
       " 'Delicatessen': 2820.1059373693975}"
      ]
     },
     "execution_count": 16,
     "metadata": {},
     "output_type": "execute_result"
    }
   ],
   "source": [
    "Standard_deviation = {}\n",
    "\n",
    "for i in range(0,6):\n",
    "     Standard_deviation[Products[i]] = mydata[Products[i]].std()\n",
    "\n",
    "Standard_deviation"
   ]
  },
  {
   "cell_type": "code",
   "execution_count": 17,
   "metadata": {},
   "outputs": [
    {
     "data": {
      "text/plain": [
       "{'Fresh': 12000.297727272728,\n",
       " 'Milk': 5796.265909090909,\n",
       " 'Grocery': 7951.277272727273,\n",
       " 'Frozen': 3071.931818181818,\n",
       " 'Detergents_Paper': 2881.4931818181817,\n",
       " 'Delicatessen': 1524.8704545454545}"
      ]
     },
     "execution_count": 17,
     "metadata": {},
     "output_type": "execute_result"
    }
   ],
   "source": [
    "Mean = {}\n",
    "\n",
    "for i in range(0,6):\n",
    "     Mean[Products[i]] = mydata[Products[i]].mean()\n",
    "\n",
    "Mean"
   ]
  },
  {
   "cell_type": "code",
   "execution_count": 18,
   "metadata": {},
   "outputs": [
    {
     "data": {
      "text/plain": [
       "{'Fresh': 1.0539179237473149,\n",
       " 'Milk': 1.2732985840065414,\n",
       " 'Grocery': 1.1951743730016824,\n",
       " 'Frozen': 1.5803323836352914,\n",
       " 'Detergents_Paper': 1.6546471385005155,\n",
       " 'Delicatessen': 1.8494068981158382}"
      ]
     },
     "execution_count": 18,
     "metadata": {},
     "output_type": "execute_result"
    }
   ],
   "source": [
    "CV = {}\n",
    "\n",
    "for i in range(0,6):\n",
    "     CV[Products[i]] = Standard_deviation[Products[i]] / Mean[Products[i]]\n",
    "\n",
    "CV"
   ]
  },
  {
   "cell_type": "code",
   "execution_count": 20,
   "metadata": {},
   "outputs": [],
   "source": [
    "#Measure Of Variablility - MOV\n",
    "\n",
    "MOV = pd.DataFrame(data = [mydata.std(),mydata.mean()], index = ['Standard deviation', 'Mean'])"
   ]
  },
  {
   "cell_type": "code",
   "execution_count": 21,
   "metadata": {},
   "outputs": [],
   "source": [
    "MOV.drop('Buyer/Spender', axis=1,inplace = True) "
   ]
  },
  {
   "cell_type": "code",
   "execution_count": 22,
   "metadata": {},
   "outputs": [
    {
     "data": {
      "text/html": [
       "<div>\n",
       "<style scoped>\n",
       "    .dataframe tbody tr th:only-of-type {\n",
       "        vertical-align: middle;\n",
       "    }\n",
       "\n",
       "    .dataframe tbody tr th {\n",
       "        vertical-align: top;\n",
       "    }\n",
       "\n",
       "    .dataframe thead th {\n",
       "        text-align: right;\n",
       "    }\n",
       "</style>\n",
       "<table border=\"1\" class=\"dataframe\">\n",
       "  <thead>\n",
       "    <tr style=\"text-align: right;\">\n",
       "      <th></th>\n",
       "      <th>Fresh</th>\n",
       "      <th>Milk</th>\n",
       "      <th>Grocery</th>\n",
       "      <th>Frozen</th>\n",
       "      <th>Detergents_Paper</th>\n",
       "      <th>Delicatessen</th>\n",
       "    </tr>\n",
       "  </thead>\n",
       "  <tbody>\n",
       "    <tr>\n",
       "      <th>Standard deviation</th>\n",
       "      <td>12647.328865</td>\n",
       "      <td>7380.377175</td>\n",
       "      <td>9503.162829</td>\n",
       "      <td>4854.673333</td>\n",
       "      <td>4767.854448</td>\n",
       "      <td>2820.105937</td>\n",
       "    </tr>\n",
       "    <tr>\n",
       "      <th>Mean</th>\n",
       "      <td>12000.297727</td>\n",
       "      <td>5796.265909</td>\n",
       "      <td>7951.277273</td>\n",
       "      <td>3071.931818</td>\n",
       "      <td>2881.493182</td>\n",
       "      <td>1524.870455</td>\n",
       "    </tr>\n",
       "  </tbody>\n",
       "</table>\n",
       "</div>"
      ],
      "text/plain": [
       "                           Fresh         Milk      Grocery       Frozen  \\\n",
       "Standard deviation  12647.328865  7380.377175  9503.162829  4854.673333   \n",
       "Mean                12000.297727  5796.265909  7951.277273  3071.931818   \n",
       "\n",
       "                    Detergents_Paper  Delicatessen  \n",
       "Standard deviation       4767.854448   2820.105937  \n",
       "Mean                     2881.493182   1524.870455  "
      ]
     },
     "execution_count": 22,
     "metadata": {},
     "output_type": "execute_result"
    }
   ],
   "source": [
    "MOV"
   ]
  },
  {
   "cell_type": "code",
   "execution_count": 23,
   "metadata": {},
   "outputs": [],
   "source": [
    "MOV.loc['Coefficient of variation'] = [1.0539179237473149, 1.2732985840065414, 1.1951743730016824, 1.5803323836352914, 1.6546471385005155, 1.8494068981158382] "
   ]
  },
  {
   "cell_type": "code",
   "execution_count": 24,
   "metadata": {},
   "outputs": [
    {
     "data": {
      "text/html": [
       "<div>\n",
       "<style scoped>\n",
       "    .dataframe tbody tr th:only-of-type {\n",
       "        vertical-align: middle;\n",
       "    }\n",
       "\n",
       "    .dataframe tbody tr th {\n",
       "        vertical-align: top;\n",
       "    }\n",
       "\n",
       "    .dataframe thead th {\n",
       "        text-align: right;\n",
       "    }\n",
       "</style>\n",
       "<table border=\"1\" class=\"dataframe\">\n",
       "  <thead>\n",
       "    <tr style=\"text-align: right;\">\n",
       "      <th></th>\n",
       "      <th>Fresh</th>\n",
       "      <th>Milk</th>\n",
       "      <th>Grocery</th>\n",
       "      <th>Frozen</th>\n",
       "      <th>Detergents_Paper</th>\n",
       "      <th>Delicatessen</th>\n",
       "    </tr>\n",
       "  </thead>\n",
       "  <tbody>\n",
       "    <tr>\n",
       "      <th>Standard deviation</th>\n",
       "      <td>12647.328865</td>\n",
       "      <td>7380.377175</td>\n",
       "      <td>9503.162829</td>\n",
       "      <td>4854.673333</td>\n",
       "      <td>4767.854448</td>\n",
       "      <td>2820.105937</td>\n",
       "    </tr>\n",
       "    <tr>\n",
       "      <th>Mean</th>\n",
       "      <td>12000.297727</td>\n",
       "      <td>5796.265909</td>\n",
       "      <td>7951.277273</td>\n",
       "      <td>3071.931818</td>\n",
       "      <td>2881.493182</td>\n",
       "      <td>1524.870455</td>\n",
       "    </tr>\n",
       "    <tr>\n",
       "      <th>Coefficient of variation</th>\n",
       "      <td>1.053918</td>\n",
       "      <td>1.273299</td>\n",
       "      <td>1.195174</td>\n",
       "      <td>1.580332</td>\n",
       "      <td>1.654647</td>\n",
       "      <td>1.849407</td>\n",
       "    </tr>\n",
       "  </tbody>\n",
       "</table>\n",
       "</div>"
      ],
      "text/plain": [
       "                                 Fresh         Milk      Grocery       Frozen  \\\n",
       "Standard deviation        12647.328865  7380.377175  9503.162829  4854.673333   \n",
       "Mean                      12000.297727  5796.265909  7951.277273  3071.931818   \n",
       "Coefficient of variation      1.053918     1.273299     1.195174     1.580332   \n",
       "\n",
       "                          Detergents_Paper  Delicatessen  \n",
       "Standard deviation             4767.854448   2820.105937  \n",
       "Mean                           2881.493182   1524.870455  \n",
       "Coefficient of variation          1.654647      1.849407  "
      ]
     },
     "execution_count": 24,
     "metadata": {},
     "output_type": "execute_result"
    }
   ],
   "source": [
    "MOV"
   ]
  },
  {
   "cell_type": "code",
   "execution_count": 19,
   "metadata": {},
   "outputs": [
    {
     "data": {
      "text/plain": [
       "{'Fresh': 1.0539179237473149,\n",
       " 'Grocery': 1.1951743730016824,\n",
       " 'Milk': 1.2732985840065414,\n",
       " 'Frozen': 1.5803323836352914,\n",
       " 'Detergents_Paper': 1.6546471385005155,\n",
       " 'Delicatessen': 1.8494068981158382}"
      ]
     },
     "execution_count": 19,
     "metadata": {},
     "output_type": "execute_result"
    }
   ],
   "source": [
    "#to view the sorted CV \n",
    "\n",
    "sort_CV = sorted(CV.items(), key=lambda x:x[1])\n",
    "sorted_CV = dict(sort_CV )\n",
    "sorted_CV"
   ]
  },
  {
   "cell_type": "markdown",
   "metadata": {},
   "source": [
    "### 1.4 Are there any outliers in the data? Backup your answer with a suitable plot/technique with the help of detailed comments."
   ]
  },
  {
   "cell_type": "code",
   "execution_count": 60,
   "metadata": {},
   "outputs": [
    {
     "data": {
      "image/png": "[encoded data removed]",
      "text/plain": [
       "<Figure size 1440x2160 with 6 Axes>"
      ]
     },
     "metadata": {},
     "output_type": "display_data"
    }
   ],
   "source": [
    "plt.figure(figsize=(20,30))\n",
    "\n",
    "Products = ['Fresh', 'Milk', 'Grocery','Frozen', 'Detergents_Paper', 'Delicatessen']\n",
    "for i in range(0,6):\n",
    "    plt.subplot(6,1,i+1)\n",
    "    sns.boxplot(mydata[Products[i]])"
   ]
  },
  {
   "cell_type": "code",
   "execution_count": 61,
   "metadata": {},
   "outputs": [
    {
     "data": {
      "text/html": [
       "<div>\n",
       "<style scoped>\n",
       "    .dataframe tbody tr th:only-of-type {\n",
       "        vertical-align: middle;\n",
       "    }\n",
       "\n",
       "    .dataframe tbody tr th {\n",
       "        vertical-align: top;\n",
       "    }\n",
       "\n",
       "    .dataframe thead th {\n",
       "        text-align: right;\n",
       "    }\n",
       "</style>\n",
       "<table border=\"1\" class=\"dataframe\">\n",
       "  <thead>\n",
       "    <tr style=\"text-align: right;\">\n",
       "      <th></th>\n",
       "      <th>Skewness</th>\n",
       "    </tr>\n",
       "  </thead>\n",
       "  <tbody>\n",
       "    <tr>\n",
       "      <th>Fresh</th>\n",
       "      <td>2.552583</td>\n",
       "    </tr>\n",
       "    <tr>\n",
       "      <th>Milk</th>\n",
       "      <td>4.039922</td>\n",
       "    </tr>\n",
       "    <tr>\n",
       "      <th>Grocery</th>\n",
       "      <td>3.575187</td>\n",
       "    </tr>\n",
       "    <tr>\n",
       "      <th>Frozen</th>\n",
       "      <td>5.887826</td>\n",
       "    </tr>\n",
       "    <tr>\n",
       "      <th>Detergents_Paper</th>\n",
       "      <td>3.619458</td>\n",
       "    </tr>\n",
       "    <tr>\n",
       "      <th>Delicatessen</th>\n",
       "      <td>11.113534</td>\n",
       "    </tr>\n",
       "  </tbody>\n",
       "</table>\n",
       "</div>"
      ],
      "text/plain": [
       "                   Skewness\n",
       "Fresh              2.552583\n",
       "Milk               4.039922\n",
       "Grocery            3.575187\n",
       "Frozen             5.887826\n",
       "Detergents_Paper   3.619458\n",
       "Delicatessen      11.113534"
      ]
     },
     "execution_count": 61,
     "metadata": {},
     "output_type": "execute_result"
    }
   ],
   "source": [
    "# Measure the skeweness of the required columns\n",
    "\n",
    "Skewness = pd.DataFrame({'Skewness' : [stats.skew(mydata.Fresh),stats.skew(mydata.Milk),stats.skew(mydata.Grocery),\n",
    "                                    stats.skew(mydata.Frozen),stats.skew(mydata.Detergents_Paper),stats.skew(mydata.Delicatessen)]},\n",
    "                        index=['Fresh', 'Milk', 'Grocery','Frozen', 'Detergents_Paper', 'Delicatessen'])  \n",
    "Skewness"
   ]
  }
 ],
 "metadata": {
  "kernelspec": {
   "display_name": "Python 3",
   "language": "python",
   "name": "python3"
  },
  "language_info": {
   "codemirror_mode": {
    "name": "ipython",
    "version": 3
   },
   "file_extension": ".py",
   "mimetype": "text/x-python",
   "name": "python",
   "nbconvert_exporter": "python",
   "pygments_lexer": "ipython3",
   "version": "3.7.6"
  }
 },
 "nbformat": 4,
 "nbformat_minor": 4
}
